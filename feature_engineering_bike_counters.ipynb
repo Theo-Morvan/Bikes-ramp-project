{
 "cells": [
  {
   "cell_type": "code",
   "execution_count": 1,
   "id": "a1985aff",
   "metadata": {},
   "outputs": [],
   "source": [
    "from pathlib import Path\n",
    "\n",
    "import numpy as np\n",
    "import pandas as pd\n",
    "import matplotlib.pyplot as plt\n",
    "import sklearn"
   ]
  },
  {
   "cell_type": "code",
   "execution_count": 2,
   "id": "bd1e6340",
   "metadata": {},
   "outputs": [],
   "source": [
    "data = pd.read_parquet(Path('data') / 'train.parquet')"
   ]
  },
  {
   "cell_type": "code",
   "execution_count": 3,
   "id": "8d8f6067",
   "metadata": {},
   "outputs": [],
   "source": [
    "import seaborn as sns\n",
    "sns.set_style('darkgrid')"
   ]
  },
  {
   "cell_type": "code",
   "execution_count": 4,
   "id": "153f9406",
   "metadata": {},
   "outputs": [],
   "source": [
    "data['log_bike_count'] = np.log(1 + data['bike_count'])"
   ]
  },
  {
   "cell_type": "code",
   "execution_count": 5,
   "id": "d5460115",
   "metadata": {},
   "outputs": [],
   "source": [
    "def _encode_dates(X):\n",
    "    X = X.copy()  # modify a copy of X\n",
    "    # Encode the date information from the DateOfDeparture columns\n",
    "    X.loc[:, 'year'] = X['date'].dt.year\n",
    "    X.loc[:, 'month'] = X['date'].dt.month\n",
    "    X.loc[:, 'day'] = X['date'].dt.day\n",
    "    X.loc[:, 'weekday'] = X['date'].dt.weekday\n",
    "    X.loc[:, 'hour'] = X['date'].dt.hour\n",
    "\n",
    "    # Finally we can drop the original columns from the dataframe\n",
    "    return X.drop(columns=[\"date\"]) "
   ]
  },
  {
   "cell_type": "code",
   "execution_count": 6,
   "id": "fd3925c1",
   "metadata": {},
   "outputs": [
    {
     "data": {
      "text/html": [
       "<div>\n",
       "<style scoped>\n",
       "    .dataframe tbody tr th:only-of-type {\n",
       "        vertical-align: middle;\n",
       "    }\n",
       "\n",
       "    .dataframe tbody tr th {\n",
       "        vertical-align: top;\n",
       "    }\n",
       "\n",
       "    .dataframe thead th {\n",
       "        text-align: right;\n",
       "    }\n",
       "</style>\n",
       "<table border=\"1\" class=\"dataframe\">\n",
       "  <thead>\n",
       "    <tr style=\"text-align: right;\">\n",
       "      <th></th>\n",
       "      <th>year</th>\n",
       "      <th>month</th>\n",
       "      <th>day</th>\n",
       "      <th>weekday</th>\n",
       "      <th>hour</th>\n",
       "    </tr>\n",
       "  </thead>\n",
       "  <tbody>\n",
       "    <tr>\n",
       "      <th>48321</th>\n",
       "      <td>2020</td>\n",
       "      <td>9</td>\n",
       "      <td>1</td>\n",
       "      <td>1</td>\n",
       "      <td>2</td>\n",
       "    </tr>\n",
       "    <tr>\n",
       "      <th>48324</th>\n",
       "      <td>2020</td>\n",
       "      <td>9</td>\n",
       "      <td>1</td>\n",
       "      <td>1</td>\n",
       "      <td>3</td>\n",
       "    </tr>\n",
       "    <tr>\n",
       "      <th>48327</th>\n",
       "      <td>2020</td>\n",
       "      <td>9</td>\n",
       "      <td>1</td>\n",
       "      <td>1</td>\n",
       "      <td>4</td>\n",
       "    </tr>\n",
       "    <tr>\n",
       "      <th>48330</th>\n",
       "      <td>2020</td>\n",
       "      <td>9</td>\n",
       "      <td>1</td>\n",
       "      <td>1</td>\n",
       "      <td>15</td>\n",
       "    </tr>\n",
       "    <tr>\n",
       "      <th>48333</th>\n",
       "      <td>2020</td>\n",
       "      <td>9</td>\n",
       "      <td>1</td>\n",
       "      <td>1</td>\n",
       "      <td>18</td>\n",
       "    </tr>\n",
       "  </tbody>\n",
       "</table>\n",
       "</div>"
      ],
      "text/plain": [
       "       year  month  day  weekday  hour\n",
       "48321  2020      9    1        1     2\n",
       "48324  2020      9    1        1     3\n",
       "48327  2020      9    1        1     4\n",
       "48330  2020      9    1        1    15\n",
       "48333  2020      9    1        1    18"
      ]
     },
     "execution_count": 6,
     "metadata": {},
     "output_type": "execute_result"
    }
   ],
   "source": [
    "from sklearn.preprocessing import FunctionTransformer\n",
    "\n",
    "date_encoder = FunctionTransformer(_encode_dates, validate=False)\n",
    "date_encoder.fit_transform(data[['date']]).head()"
   ]
  },
  {
   "cell_type": "code",
   "execution_count": 7,
   "id": "9f17bd9e",
   "metadata": {},
   "outputs": [
    {
     "data": {
      "text/plain": [
       "array([[1., 0., 0., 0., 0.],\n",
       "       [0., 1., 0., 0., 0.],\n",
       "       [0., 0., 1., 0., 0.],\n",
       "       [0., 0., 0., 1., 0.],\n",
       "       [0., 0., 0., 0., 1.]])"
      ]
     },
     "execution_count": 7,
     "metadata": {},
     "output_type": "execute_result"
    }
   ],
   "source": [
    "from sklearn.preprocessing import OneHotEncoder\n",
    "\n",
    "enc = OneHotEncoder(sparse=False)\n",
    "\n",
    "enc.fit_transform(_encode_dates(data[['date']])[['hour']].head())"
   ]
  },
  {
   "cell_type": "code",
   "execution_count": 8,
   "id": "db3d6ef5",
   "metadata": {},
   "outputs": [],
   "source": [
    "import problem\n",
    "\n",
    "X_train, y_train = problem.get_train_data()\n",
    "X_test, y_test = problem.get_test_data()"
   ]
  },
  {
   "cell_type": "code",
   "execution_count": 9,
   "id": "09a19945",
   "metadata": {},
   "outputs": [
    {
     "data": {
      "text/plain": [
       "Pipeline(steps=[('functiontransformer',\n",
       "                 FunctionTransformer(func=<function _encode_dates at 0x000001F9009AAA60>)),\n",
       "                ('columntransformer',\n",
       "                 ColumnTransformer(transformers=[('date',\n",
       "                                                  OneHotEncoder(handle_unknown='ignore'),\n",
       "                                                  ['year', 'month', 'day',\n",
       "                                                   'weekday', 'hour']),\n",
       "                                                 ('cat',\n",
       "                                                  OneHotEncoder(handle_unknown='ignore'),\n",
       "                                                  ['counter_name',\n",
       "                                                   'site_name'])])),\n",
       "                ('ridge', Ridge())])"
      ]
     },
     "execution_count": 9,
     "metadata": {},
     "output_type": "execute_result"
    }
   ],
   "source": [
    "from sklearn.compose import ColumnTransformer\n",
    "from sklearn.linear_model import Ridge\n",
    "from sklearn.pipeline import make_pipeline\n",
    "\n",
    "date_encoder = FunctionTransformer(_encode_dates)\n",
    "date_cols = _encode_dates(X_train[['date']]).columns.tolist()\n",
    "\n",
    "categorical_encoder = OneHotEncoder(handle_unknown=\"ignore\")\n",
    "categorical_cols = [\"counter_name\", \"site_name\"]\n",
    "\n",
    "preprocessor = ColumnTransformer([\n",
    "    ('date', OneHotEncoder(handle_unknown=\"ignore\"), date_cols),\n",
    "    ('cat', categorical_encoder, categorical_cols),\n",
    "])\n",
    "\n",
    "regressor = Ridge()\n",
    "\n",
    "pipe = make_pipeline(date_encoder, preprocessor, regressor)\n",
    "pipe.fit(X_train, y_train)"
   ]
  },
  {
   "cell_type": "code",
   "execution_count": 10,
   "id": "27fc2137",
   "metadata": {},
   "outputs": [
    {
     "name": "stdout",
     "output_type": "stream",
     "text": [
      "Train set, RMSE=0.80\n",
      "Test set, RMSE=0.73\n"
     ]
    }
   ],
   "source": [
    "from sklearn.metrics import mean_squared_error\n",
    "\n",
    "print(f'Train set, RMSE={mean_squared_error(y_train, pipe.predict(X_train), squared=False):.2f}')\n",
    "print(f'Test set, RMSE={mean_squared_error(y_test, pipe.predict(X_test), squared=False):.2f}')"
   ]
  },
  {
   "cell_type": "code",
   "execution_count": 11,
   "id": "ed364f5f",
   "metadata": {},
   "outputs": [
    {
     "name": "stdout",
     "output_type": "stream",
     "text": [
      "RMSE:  [-0.82871796 -1.01361312 -0.82011608 -1.08268223 -0.94019597 -1.42230367]\n",
      "RMSE (all folds): 1.02 ± 0.204\n"
     ]
    }
   ],
   "source": [
    "from sklearn.model_selection import TimeSeriesSplit, cross_val_score\n",
    "\n",
    "cv = TimeSeriesSplit(n_splits=6)\n",
    "\n",
    "# When using a scorer in scikit-learn it always needs to be better when smaller, hence the minus sign.\n",
    "scores = cross_val_score(pipe, X_train, y_train, cv=cv, scoring='neg_root_mean_squared_error')\n",
    "print('RMSE: ', scores)\n",
    "print(f'RMSE (all folds): {-scores.mean():.3} ± {(-scores).std():.3}')"
   ]
  },
  {
   "cell_type": "code",
   "execution_count": 12,
   "id": "113ad012",
   "metadata": {},
   "outputs": [
    {
     "data": {
      "text/plain": [
       "Pipeline(steps=[('functiontransformer',\n",
       "                 FunctionTransformer(func=<function _encode_dates at 0x000001F9009AAA60>)),\n",
       "                ('columntransformer',\n",
       "                 ColumnTransformer(transformers=[('date', 'passthrough',\n",
       "                                                  ['year', 'month', 'day',\n",
       "                                                   'weekday', 'hour']),\n",
       "                                                 ('cat',\n",
       "                                                  OrdinalEncoder(handle_unknown='use_encoded_value',\n",
       "                                                                 unknown_value=-1),\n",
       "                                                  ['counter_name',\n",
       "                                                   'site_name'])])),\n",
       "                ('histgradientboostingregressor',\n",
       "                 HistGradientBoostingRegressor(random_state=0))])"
      ]
     },
     "execution_count": 12,
     "metadata": {},
     "output_type": "execute_result"
    }
   ],
   "source": [
    "from sklearn.experimental import enable_hist_gradient_boosting\n",
    "from sklearn.ensemble import HistGradientBoostingRegressor\n",
    "from sklearn.preprocessing import OrdinalEncoder\n",
    "\n",
    "date_encoder = FunctionTransformer(_encode_dates)\n",
    "date_cols = _encode_dates(X_train[['date']]).columns.tolist()\n",
    "\n",
    "categorical_encoder = OneHotEncoder(handle_unknown=\"ignore\")\n",
    "categorical_cols = [\"counter_name\", \"site_name\"]\n",
    "\n",
    "preprocessor = ColumnTransformer([\n",
    "    ('date', \"passthrough\", date_cols),\n",
    "    ('cat', OrdinalEncoder(handle_unknown='use_encoded_value', unknown_value=-1), categorical_cols),\n",
    "])\n",
    "\n",
    "regressor = HistGradientBoostingRegressor(random_state=0)\n",
    "\n",
    "pipe =  make_pipeline(date_encoder, preprocessor, regressor)\n",
    "pipe"
   ]
  },
  {
   "cell_type": "code",
   "execution_count": 13,
   "id": "37befebb",
   "metadata": {},
   "outputs": [
    {
     "name": "stdout",
     "output_type": "stream",
     "text": [
      "RMSE: 1.19 ± 0.242\n"
     ]
    }
   ],
   "source": [
    "scores = cross_val_score(pipe, X_train, y_train, cv=cv, scoring='neg_root_mean_squared_error', error_score=np.nan)\n",
    "print(f'RMSE: {-scores.mean():.3} ± {(-scores).std():.3}')"
   ]
  },
  {
   "cell_type": "code",
   "execution_count": 14,
   "id": "aed8a453",
   "metadata": {},
   "outputs": [],
   "source": [
    "# In this notebook we define the __file__ variable to be in the same conditions as when running the\n",
    "# RAMP submission\n",
    "\n",
    "__file__ = Path('submissions') /  'starting_kit' /  'estimator.py'\n",
    "\n",
    "\n",
    "def _merge_external_data(X):\n",
    "    file_path = Path(__file__).parent / 'external_data.csv'\n",
    "    df_ext = pd.read_csv(file_path, parse_dates=['date'])\n",
    "    \n",
    "    X = X.copy()\n",
    "    # When using merge_asof left frame need to be sorted\n",
    "    X['orig_index'] = np.arange(X.shape[0])\n",
    "    X = pd.merge_asof(X.sort_values('date'), df_ext[['date', 't','raf10','ff','rr1']].sort_values('date'), on='date')\n",
    "    # Sort back to the original order\n",
    "    X = X.sort_values('orig_index')\n",
    "    del X['orig_index']\n",
    "    return X\n",
    "    "
   ]
  },
  {
   "cell_type": "code",
   "execution_count": 15,
   "id": "45a029f9",
   "metadata": {},
   "outputs": [],
   "source": [
    "from sklearn.ensemble import HistGradientBoostingRegressor\n",
    "from sklearn.preprocessing import OrdinalEncoder\n",
    "\n",
    "date_encoder = FunctionTransformer(_encode_dates)\n",
    "date_cols = _encode_dates(X_train[['date']]).columns.tolist()\n",
    "\n",
    "categorical_encoder = OneHotEncoder(handle_unknown=\"ignore\")\n",
    "categorical_cols = [\"counter_name\", \"site_name\"]\n",
    "\n",
    "numeric_cols = ['t','raf10','ff','rr1']\n",
    "\n",
    "preprocessor = ColumnTransformer([\n",
    "    ('date', \"passthrough\", date_cols),\n",
    "    ('cat', OrdinalEncoder(handle_unknown='use_encoded_value', unknown_value=-1), categorical_cols),\n",
    "    ('numeric', 'passthrough', numeric_cols)\n",
    "])\n",
    "\n",
    "regressor = HistGradientBoostingRegressor(random_state=0)\n",
    "\n",
    "pipe =  make_pipeline(\n",
    "    FunctionTransformer(_merge_external_data, validate=False),\n",
    "    date_encoder,\n",
    "    preprocessor,\n",
    "    regressor\n",
    ")"
   ]
  },
  {
   "cell_type": "code",
   "execution_count": 16,
   "id": "7a66e6c1",
   "metadata": {},
   "outputs": [],
   "source": [
    "import time"
   ]
  },
  {
   "cell_type": "code",
   "execution_count": 17,
   "id": "c1949bd2",
   "metadata": {},
   "outputs": [
    {
     "name": "stderr",
     "output_type": "stream",
     "text": [
      "[Parallel(n_jobs=-1)]: Using backend LokyBackend with 12 concurrent workers.\n",
      "[Parallel(n_jobs=-1)]: Done   3 out of   6 | elapsed:   22.8s remaining:   22.8s\n"
     ]
    },
    {
     "name": "stdout",
     "output_type": "stream",
     "text": [
      "3.22e+01 seconds\n",
      "RMSE: 1.18 ± 0.239\n"
     ]
    },
    {
     "name": "stderr",
     "output_type": "stream",
     "text": [
      "[Parallel(n_jobs=-1)]: Done   6 out of   6 | elapsed:   31.9s finished\n"
     ]
    }
   ],
   "source": [
    "start = time.time()\n",
    "scores = cross_val_score(pipe, X_train, y_train, cv=cv, scoring='neg_root_mean_squared_error', error_score=np.nan,verbose=2,n_jobs=-1)\n",
    "end = time.time()\n",
    "timed= end - start\n",
    "print(\"%1.2e seconds\"%timed)\n",
    "print(f'RMSE: {-scores.mean():.3} ± {(-scores).std():.3}')"
   ]
  },
  {
   "cell_type": "code",
   "execution_count": 18,
   "id": "75497099",
   "metadata": {},
   "outputs": [],
   "source": [
    "merger = pipe[:2]\n",
    "X_train_augmented = merger.transform(X_train)\n",
    "X_test_augmented = merger.transform(X_test)\n",
    "\n",
    "predictor = pipe[2:]\n",
    "_ = predictor.fit(X_train_augmented, y_train)"
   ]
  },
  {
   "cell_type": "code",
   "execution_count": 19,
   "id": "b590156a",
   "metadata": {},
   "outputs": [],
   "source": [
    "from sklearn.inspection import permutation_importance\n",
    "\n",
    "feature_importances = permutation_importance(\n",
    "    predictor, X_train_augmented[:20000], y_train[:20000], n_repeats=10, random_state=0\n",
    ")"
   ]
  },
  {
   "cell_type": "code",
   "execution_count": 20,
   "id": "cd421ac2",
   "metadata": {},
   "outputs": [
    {
     "data": {
      "image/png": "[encoded data removed]",
      "text/plain": [
       "<Figure size 1008x720 with 1 Axes>"
      ]
     },
     "metadata": {},
     "output_type": "display_data"
    }
   ],
   "source": [
    "sorted_idx = feature_importances.importances_mean.argsort()\n",
    "\n",
    "fig, ax = plt.subplots(figsize=(14,10))\n",
    "ax.boxplot(feature_importances.importances[sorted_idx].T,\n",
    "           vert=False, labels=X_train_augmented.columns[sorted_idx])\n",
    "ax.set_title(\"Permutation Importances (train set)\")\n",
    "fig.tight_layout()\n",
    "plt.show()"
   ]
  },
  {
   "cell_type": "code",
   "execution_count": 21,
   "id": "825b6aa7",
   "metadata": {},
   "outputs": [
    {
     "data": {
      "text/plain": [
       "Index(['ff', 'counter_id', 'site_id', 'site_name', 'counter_installation_date',\n",
       "       'counter_technical_id', 'latitude', 'longitude', 'raf10', 'rr1', 'year',\n",
       "       'day', 't', 'month', 'weekday', 'hour', 'counter_name'],\n",
       "      dtype='object')"
      ]
     },
     "execution_count": 21,
     "metadata": {},
     "output_type": "execute_result"
    }
   ],
   "source": [
    "X_train_augmented.columns[sorted_idx]"
   ]
  },
  {
   "cell_type": "code",
   "execution_count": 22,
   "id": "6825669e",
   "metadata": {},
   "outputs": [],
   "source": [
    "# FunctionTransformer(_encode_dates, validate=False)"
   ]
  },
  {
   "cell_type": "code",
   "execution_count": 23,
   "id": "bb81d14b",
   "metadata": {},
   "outputs": [],
   "source": [
    "geoloc = data.drop_duplicates(['site_name'])[['site_name','latitude','longitude']]\n",
    "\n",
    "geoloc.loc[len(geoloc.index)] = ['center']+list(data.drop_duplicates(['site_name'])[['latitude','longitude']].mean().values)"
   ]
  },
  {
   "cell_type": "code",
   "execution_count": 24,
   "id": "e3761553",
   "metadata": {},
   "outputs": [],
   "source": [
    "geoloc['distance_center'] = (geoloc.iloc[:,1:] - geoloc.iloc[-1,1:]).apply(np.linalg.norm,axis=1)"
   ]
  },
  {
   "cell_type": "code",
   "execution_count": 25,
   "id": "c68a4f60",
   "metadata": {},
   "outputs": [
    {
     "data": {
      "text/plain": [
       "(455163, 9)"
      ]
     },
     "execution_count": 25,
     "metadata": {},
     "output_type": "execute_result"
    }
   ],
   "source": [
    "X_train.shape"
   ]
  },
  {
   "cell_type": "code",
   "execution_count": 26,
   "id": "1eb125f2",
   "metadata": {},
   "outputs": [
    {
     "data": {
      "text/html": [
       "<div>\n",
       "<style scoped>\n",
       "    .dataframe tbody tr th:only-of-type {\n",
       "        vertical-align: middle;\n",
       "    }\n",
       "\n",
       "    .dataframe tbody tr th {\n",
       "        vertical-align: top;\n",
       "    }\n",
       "\n",
       "    .dataframe thead th {\n",
       "        text-align: right;\n",
       "    }\n",
       "</style>\n",
       "<table border=\"1\" class=\"dataframe\">\n",
       "  <thead>\n",
       "    <tr style=\"text-align: right;\">\n",
       "      <th></th>\n",
       "      <th>counter_id</th>\n",
       "      <th>counter_name</th>\n",
       "      <th>site_id</th>\n",
       "      <th>site_name</th>\n",
       "      <th>date</th>\n",
       "      <th>counter_installation_date</th>\n",
       "      <th>counter_technical_id</th>\n",
       "      <th>latitude</th>\n",
       "      <th>longitude</th>\n",
       "      <th>distance_center</th>\n",
       "    </tr>\n",
       "  </thead>\n",
       "  <tbody>\n",
       "    <tr>\n",
       "      <th>0</th>\n",
       "      <td>100007049-102007049</td>\n",
       "      <td>28 boulevard Diderot E-O</td>\n",
       "      <td>100007049</td>\n",
       "      <td>28 boulevard Diderot</td>\n",
       "      <td>2020-09-01 02:00:00</td>\n",
       "      <td>2013-01-18</td>\n",
       "      <td>Y2H15027244</td>\n",
       "      <td>48.846028</td>\n",
       "      <td>2.375429</td>\n",
       "      <td>0.032761</td>\n",
       "    </tr>\n",
       "    <tr>\n",
       "      <th>1</th>\n",
       "      <td>100007049-102007049</td>\n",
       "      <td>28 boulevard Diderot E-O</td>\n",
       "      <td>100007049</td>\n",
       "      <td>28 boulevard Diderot</td>\n",
       "      <td>2020-09-01 03:00:00</td>\n",
       "      <td>2013-01-18</td>\n",
       "      <td>Y2H15027244</td>\n",
       "      <td>48.846028</td>\n",
       "      <td>2.375429</td>\n",
       "      <td>0.032761</td>\n",
       "    </tr>\n",
       "    <tr>\n",
       "      <th>2</th>\n",
       "      <td>100007049-102007049</td>\n",
       "      <td>28 boulevard Diderot E-O</td>\n",
       "      <td>100007049</td>\n",
       "      <td>28 boulevard Diderot</td>\n",
       "      <td>2020-09-01 04:00:00</td>\n",
       "      <td>2013-01-18</td>\n",
       "      <td>Y2H15027244</td>\n",
       "      <td>48.846028</td>\n",
       "      <td>2.375429</td>\n",
       "      <td>0.032761</td>\n",
       "    </tr>\n",
       "    <tr>\n",
       "      <th>3</th>\n",
       "      <td>100007049-102007049</td>\n",
       "      <td>28 boulevard Diderot E-O</td>\n",
       "      <td>100007049</td>\n",
       "      <td>28 boulevard Diderot</td>\n",
       "      <td>2020-09-01 15:00:00</td>\n",
       "      <td>2013-01-18</td>\n",
       "      <td>Y2H15027244</td>\n",
       "      <td>48.846028</td>\n",
       "      <td>2.375429</td>\n",
       "      <td>0.032761</td>\n",
       "    </tr>\n",
       "    <tr>\n",
       "      <th>4</th>\n",
       "      <td>100007049-102007049</td>\n",
       "      <td>28 boulevard Diderot E-O</td>\n",
       "      <td>100007049</td>\n",
       "      <td>28 boulevard Diderot</td>\n",
       "      <td>2020-09-01 18:00:00</td>\n",
       "      <td>2013-01-18</td>\n",
       "      <td>Y2H15027244</td>\n",
       "      <td>48.846028</td>\n",
       "      <td>2.375429</td>\n",
       "      <td>0.032761</td>\n",
       "    </tr>\n",
       "    <tr>\n",
       "      <th>...</th>\n",
       "      <td>...</td>\n",
       "      <td>...</td>\n",
       "      <td>...</td>\n",
       "      <td>...</td>\n",
       "      <td>...</td>\n",
       "      <td>...</td>\n",
       "      <td>...</td>\n",
       "      <td>...</td>\n",
       "      <td>...</td>\n",
       "      <td>...</td>\n",
       "    </tr>\n",
       "    <tr>\n",
       "      <th>455158</th>\n",
       "      <td>300014702-353245971</td>\n",
       "      <td>254 rue de Vaugirard SO-NE</td>\n",
       "      <td>300014702</td>\n",
       "      <td>254 rue de Vaugirard</td>\n",
       "      <td>2021-08-08 18:00:00</td>\n",
       "      <td>2020-11-29</td>\n",
       "      <td>Y2H20114504</td>\n",
       "      <td>48.839770</td>\n",
       "      <td>2.301980</td>\n",
       "      <td>0.044477</td>\n",
       "    </tr>\n",
       "    <tr>\n",
       "      <th>455159</th>\n",
       "      <td>300014702-353245971</td>\n",
       "      <td>254 rue de Vaugirard SO-NE</td>\n",
       "      <td>300014702</td>\n",
       "      <td>254 rue de Vaugirard</td>\n",
       "      <td>2021-08-09 02:00:00</td>\n",
       "      <td>2020-11-29</td>\n",
       "      <td>Y2H20114504</td>\n",
       "      <td>48.839770</td>\n",
       "      <td>2.301980</td>\n",
       "      <td>0.044477</td>\n",
       "    </tr>\n",
       "    <tr>\n",
       "      <th>455160</th>\n",
       "      <td>300014702-353245971</td>\n",
       "      <td>254 rue de Vaugirard SO-NE</td>\n",
       "      <td>300014702</td>\n",
       "      <td>254 rue de Vaugirard</td>\n",
       "      <td>2021-08-09 08:00:00</td>\n",
       "      <td>2020-11-29</td>\n",
       "      <td>Y2H20114504</td>\n",
       "      <td>48.839770</td>\n",
       "      <td>2.301980</td>\n",
       "      <td>0.044477</td>\n",
       "    </tr>\n",
       "    <tr>\n",
       "      <th>455161</th>\n",
       "      <td>300014702-353245971</td>\n",
       "      <td>254 rue de Vaugirard SO-NE</td>\n",
       "      <td>300014702</td>\n",
       "      <td>254 rue de Vaugirard</td>\n",
       "      <td>2021-08-09 10:00:00</td>\n",
       "      <td>2020-11-29</td>\n",
       "      <td>Y2H20114504</td>\n",
       "      <td>48.839770</td>\n",
       "      <td>2.301980</td>\n",
       "      <td>0.044477</td>\n",
       "    </tr>\n",
       "    <tr>\n",
       "      <th>455162</th>\n",
       "      <td>300014702-353245971</td>\n",
       "      <td>254 rue de Vaugirard SO-NE</td>\n",
       "      <td>300014702</td>\n",
       "      <td>254 rue de Vaugirard</td>\n",
       "      <td>2021-08-09 17:00:00</td>\n",
       "      <td>2020-11-29</td>\n",
       "      <td>Y2H20114504</td>\n",
       "      <td>48.839770</td>\n",
       "      <td>2.301980</td>\n",
       "      <td>0.044477</td>\n",
       "    </tr>\n",
       "  </tbody>\n",
       "</table>\n",
       "<p>455163 rows × 10 columns</p>\n",
       "</div>"
      ],
      "text/plain": [
       "                 counter_id                counter_name    site_id  \\\n",
       "0       100007049-102007049    28 boulevard Diderot E-O  100007049   \n",
       "1       100007049-102007049    28 boulevard Diderot E-O  100007049   \n",
       "2       100007049-102007049    28 boulevard Diderot E-O  100007049   \n",
       "3       100007049-102007049    28 boulevard Diderot E-O  100007049   \n",
       "4       100007049-102007049    28 boulevard Diderot E-O  100007049   \n",
       "...                     ...                         ...        ...   \n",
       "455158  300014702-353245971  254 rue de Vaugirard SO-NE  300014702   \n",
       "455159  300014702-353245971  254 rue de Vaugirard SO-NE  300014702   \n",
       "455160  300014702-353245971  254 rue de Vaugirard SO-NE  300014702   \n",
       "455161  300014702-353245971  254 rue de Vaugirard SO-NE  300014702   \n",
       "455162  300014702-353245971  254 rue de Vaugirard SO-NE  300014702   \n",
       "\n",
       "                   site_name                date counter_installation_date  \\\n",
       "0       28 boulevard Diderot 2020-09-01 02:00:00                2013-01-18   \n",
       "1       28 boulevard Diderot 2020-09-01 03:00:00                2013-01-18   \n",
       "2       28 boulevard Diderot 2020-09-01 04:00:00                2013-01-18   \n",
       "3       28 boulevard Diderot 2020-09-01 15:00:00                2013-01-18   \n",
       "4       28 boulevard Diderot 2020-09-01 18:00:00                2013-01-18   \n",
       "...                      ...                 ...                       ...   \n",
       "455158  254 rue de Vaugirard 2021-08-08 18:00:00                2020-11-29   \n",
       "455159  254 rue de Vaugirard 2021-08-09 02:00:00                2020-11-29   \n",
       "455160  254 rue de Vaugirard 2021-08-09 08:00:00                2020-11-29   \n",
       "455161  254 rue de Vaugirard 2021-08-09 10:00:00                2020-11-29   \n",
       "455162  254 rue de Vaugirard 2021-08-09 17:00:00                2020-11-29   \n",
       "\n",
       "       counter_technical_id   latitude  longitude  distance_center  \n",
       "0               Y2H15027244  48.846028   2.375429         0.032761  \n",
       "1               Y2H15027244  48.846028   2.375429         0.032761  \n",
       "2               Y2H15027244  48.846028   2.375429         0.032761  \n",
       "3               Y2H15027244  48.846028   2.375429         0.032761  \n",
       "4               Y2H15027244  48.846028   2.375429         0.032761  \n",
       "...                     ...        ...        ...              ...  \n",
       "455158          Y2H20114504  48.839770   2.301980         0.044477  \n",
       "455159          Y2H20114504  48.839770   2.301980         0.044477  \n",
       "455160          Y2H20114504  48.839770   2.301980         0.044477  \n",
       "455161          Y2H20114504  48.839770   2.301980         0.044477  \n",
       "455162          Y2H20114504  48.839770   2.301980         0.044477  \n",
       "\n",
       "[455163 rows x 10 columns]"
      ]
     },
     "execution_count": 26,
     "metadata": {},
     "output_type": "execute_result"
    }
   ],
   "source": [
    "X_train.merge(geoloc.iloc[:-1,[0,-1]],left_on='site_name',right_on='site_name')"
   ]
  },
  {
   "cell_type": "code",
   "execution_count": 30,
   "id": "e1e0f991",
   "metadata": {},
   "outputs": [],
   "source": [
    "def _distance_center_paris(X):\n",
    "    X = X.copy()\n",
    "    geoloc = X.drop_duplicates(['site_name'])[['site_name','latitude','longitude']]\n",
    "    geoloc.loc[len(geoloc.index)] = ['center']+list(data.drop_duplicates(['site_name'])[['latitude','longitude']].mean().values)\n",
    "    geoloc['distance_center'] = (geoloc.iloc[:,1:] - geoloc.iloc[-1,1:]).apply(np.linalg.norm,axis=1)\n",
    "    X = X.merge(geoloc.iloc[:-1,[0,-1]],left_on='site_name',right_on='site_name')\n",
    "    return X"
   ]
  },
  {
   "cell_type": "code",
   "execution_count": 31,
   "id": "aae7eafb",
   "metadata": {},
   "outputs": [],
   "source": [
    "def _dropping_columns(X):\n",
    "    X = X.copy()\n",
    "    X.drop(columns = {'counter_id', 'site_id', 'counter_installation_date',\n",
    "       'counter_technical_id'},inplace=True)\n",
    "    return X"
   ]
  },
  {
   "cell_type": "code",
   "execution_count": 33,
   "id": "c52ece0b",
   "metadata": {},
   "outputs": [],
   "source": [
    "computing_center = FunctionTransformer(_distance_center_paris, validate=False)\n",
    "columns_dropper = FunctionTransformer(_dropping_columns, validate=False)"
   ]
  },
  {
   "cell_type": "code",
   "execution_count": 35,
   "id": "09aaacd8",
   "metadata": {},
   "outputs": [],
   "source": [
    "from sklearn.ensemble import HistGradientBoostingRegressor\n",
    "from sklearn.preprocessing import OrdinalEncoder\n",
    "\n",
    "date_encoder = FunctionTransformer(_encode_dates)\n",
    "date_cols = _encode_dates(X_train[['date']]).columns.tolist()\n",
    "\n",
    "categorical_encoder = OneHotEncoder(handle_unknown=\"ignore\")\n",
    "categorical_cols = [\"counter_name\"]\n",
    "\n",
    "deleted_cols = ['counter_id', 'site_id', 'counter_installation_date',\n",
    "       'counter_technical_id']\n",
    "merging_cols = ['site_name']\n",
    "numeric_cols = ['t','raf10','ff','rr1','distance_center']\n",
    "\n",
    "preprocessor = ColumnTransformer([\n",
    "    ('date', \"passthrough\", date_cols),\n",
    "    ('cat', OrdinalEncoder(handle_unknown='use_encoded_value', unknown_value=-1), categorical_cols),\n",
    "    ('numeric', 'passthrough', numeric_cols),\n",
    "])\n",
    "\n",
    "regressor = HistGradientBoostingRegressor(random_state=0)\n",
    "\n",
    "pipe =  make_pipeline(\n",
    "    FunctionTransformer(_merge_external_data, validate=False),\n",
    "    date_encoder,\n",
    "    FunctionTransformer(_distance_center_paris, validate=False),\n",
    "    columns_dropper,\n",
    "    preprocessor,\n",
    "    regressor\n",
    ")"
   ]
  },
  {
   "cell_type": "code",
   "execution_count": 36,
   "id": "84afbe0f",
   "metadata": {},
   "outputs": [
    {
     "name": "stderr",
     "output_type": "stream",
     "text": [
      "[Parallel(n_jobs=-1)]: Using backend LokyBackend with 12 concurrent workers.\n",
      "[Parallel(n_jobs=-1)]: Done   3 out of   6 | elapsed:    6.4s remaining:    6.4s\n"
     ]
    },
    {
     "name": "stdout",
     "output_type": "stream",
     "text": [
      "2.15e+01 seconds\n",
      "RMSE: nan ± nan\n"
     ]
    },
    {
     "name": "stderr",
     "output_type": "stream",
     "text": [
      "[Parallel(n_jobs=-1)]: Done   6 out of   6 | elapsed:   21.2s finished\n"
     ]
    }
   ],
   "source": [
    "start = time.time()\n",
    "scores = cross_val_score(pipe, X_train, y_train, cv=cv, scoring='neg_root_mean_squared_error', error_score=np.nan,verbose=2,n_jobs=-1)\n",
    "end = time.time()\n",
    "timed= end - start\n",
    "print(\"%1.2e seconds\"%timed)\n",
    "print(f'RMSE: {-scores.mean():.3} ± {(-scores).std():.3}')"
   ]
  },
  {
   "cell_type": "code",
   "execution_count": 37,
   "id": "c9aa9530",
   "metadata": {},
   "outputs": [
    {
     "data": {
      "text/plain": [
       "Pipeline(steps=[('functiontransformer-1',\n",
       "                 FunctionTransformer(func=<function _merge_external_data at 0x000001F90369A8B0>)),\n",
       "                ('functiontransformer-2',\n",
       "                 FunctionTransformer(func=<function _encode_dates at 0x000001F9009AAA60>)),\n",
       "                ('functiontransformer-3',\n",
       "                 FunctionTransformer(func=<function _distance_center_paris at 0x000001F90412F700>)),\n",
       "                ('functiontransformer-4',\n",
       "                 FunctionTransformer(func=<function _dropping_columns at 0x000001F90412F4C0>))])"
      ]
     },
     "execution_count": 37,
     "metadata": {},
     "output_type": "execute_result"
    }
   ],
   "source": [
    "pipe[:4]"
   ]
  },
  {
   "cell_type": "code",
   "execution_count": 38,
   "id": "a746c6ed",
   "metadata": {},
   "outputs": [],
   "source": [
    "merger = pipe[:4]\n",
    "X_train_augmented = merger.transform(X_train)\n",
    "X_test_augmented = merger.transform(X_test)\n",
    "\n",
    "predictor = pipe[4:]\n",
    "_ = predictor.fit(X_train_augmented, y_train)\n",
    "feature_importances = permutation_importance(\n",
    "    predictor, X_train_augmented[:20000], y_train[:20000], n_repeats=10, random_state=0\n",
    ")"
   ]
  },
  {
   "cell_type": "code",
   "execution_count": 39,
   "id": "5f6bb46e",
   "metadata": {},
   "outputs": [
    {
     "data": {
      "image/png": "[encoded data removed]",
      "text/plain": [
       "<Figure size 1008x720 with 1 Axes>"
      ]
     },
     "metadata": {},
     "output_type": "display_data"
    }
   ],
   "source": [
    "sorted_idx = feature_importances.importances_mean.argsort()\n",
    "\n",
    "fig, ax = plt.subplots(figsize=(14,10))\n",
    "ax.boxplot(feature_importances.importances[sorted_idx].T,\n",
    "           vert=False, labels=X_train_augmented.columns[sorted_idx])\n",
    "ax.set_title(\"Permutation Importances (train set)\")\n",
    "fig.tight_layout()\n",
    "plt.show()"
   ]
  },
  {
   "cell_type": "code",
   "execution_count": 123,
   "id": "2c4dd7d6",
   "metadata": {},
   "outputs": [],
   "source": [
    "__file__ = Path('submissions') /  'starting_kit' /  'estimator.py'\n",
    "file_path = Path(__file__).parent / 'jardins.csv'"
   ]
  },
  {
   "cell_type": "code",
   "execution_count": 124,
   "id": "b005bf79",
   "metadata": {},
   "outputs": [
    {
     "data": {
      "text/plain": [
       "WindowsPath('submissions/starting_kit/jardins.csv')"
      ]
     },
     "execution_count": 124,
     "metadata": {},
     "output_type": "execute_result"
    }
   ],
   "source": [
    "file_path"
   ]
  },
  {
   "cell_type": "code",
   "execution_count": 128,
   "id": "3ed832c6",
   "metadata": {},
   "outputs": [],
   "source": [
    "df_parcs = pd.read_csv(file_path,sep=\";\")"
   ]
  },
  {
   "cell_type": "code",
   "execution_count": 129,
   "id": "ee009661",
   "metadata": {},
   "outputs": [
    {
     "data": {
      "text/plain": [
       "BOULOGNE-BILLANCOURT    44\n",
       "ISSY-LES-MOULINEAUX     35\n",
       "MEUDON                  32\n",
       "SEVRES                  22\n",
       "CHAVILLE                22\n",
       "VANVES                  18\n",
       "MARNES-LA-COQUETTE       9\n",
       "VILLE D'AVRAY            7\n",
       "Name: commune, dtype: int64"
      ]
     },
     "execution_count": 129,
     "metadata": {},
     "output_type": "execute_result"
    }
   ],
   "source": [
    "df_parcs['commune'].value_counts()"
   ]
  },
  {
   "cell_type": "code",
   "execution_count": 45,
   "id": "a359197d",
   "metadata": {},
   "outputs": [
    {
     "name": "stdout",
     "output_type": "stream",
     "text": [
      "2020-09-01\n"
     ]
    },
    {
     "data": {
      "text/plain": [
       "datetime.date(2021, 8, 9)"
      ]
     },
     "execution_count": 45,
     "metadata": {},
     "output_type": "execute_result"
    }
   ],
   "source": [
    "print(X_train.date.dt.date.min())\n",
    "X_train.date.dt.date.max()"
   ]
  },
  {
   "cell_type": "code",
   "execution_count": 67,
   "id": "f75e1e12",
   "metadata": {},
   "outputs": [],
   "source": [
    "def _schools_holidays(X):\n",
    "    X = X.copy()\n",
    "    toussaint = pd.date_range('17/10/2021','2/11/2021')\n",
    "    xmas = pd.date_range('11/19/2020','4/1/2021')\n",
    "    winter = pd.date_range('2/13/2021','1/3/2021')\n",
    "    paques = pd.date_range('4/10/2021','4/26/2021')\n",
    "    summer = pd.date_range('6/7/2021','9/4/2021')\n",
    "    holidays = [toussaint,xmas,winter,paques]\n",
    "    total_dates = pd.date_range(X.date.dt.date.min(),X.date.dt.date.max())\n",
    "    scores = np.zeros(len(total_dates))\n",
    "    final_serie = pd.Series(data=scores, index = total_dates)\n",
    "    for holiday in holidays:\n",
    "        final_serie += final_serie.apply(lambda date : 1 if date in holiday else 0).values\n",
    "    return final_serie"
   ]
  },
  {
   "cell_type": "code",
   "execution_count": 69,
   "id": "12255d0b",
   "metadata": {},
   "outputs": [
    {
     "data": {
      "text/plain": [
       "0.0"
      ]
     },
     "execution_count": 69,
     "metadata": {},
     "output_type": "execute_result"
    }
   ],
   "source": [
    "_schools_holidays(X_train).sum()"
   ]
  },
  {
   "cell_type": "code",
   "execution_count": null,
   "id": "88a996e0",
   "metadata": {},
   "outputs": [],
   "source": []
  },
  {
   "cell_type": "code",
   "execution_count": null,
   "id": "b2b3fe51",
   "metadata": {},
   "outputs": [],
   "source": []
  },
  {
   "cell_type": "code",
   "execution_count": 59,
   "id": "bb74d3fc",
   "metadata": {},
   "outputs": [
    {
     "data": {
      "text/plain": [
       "[Timestamp('2021-02-13 00:00:00', freq='D'),\n",
       " Timestamp('2021-02-14 00:00:00', freq='D'),\n",
       " Timestamp('2021-02-15 00:00:00', freq='D'),\n",
       " Timestamp('2021-02-16 00:00:00', freq='D'),\n",
       " Timestamp('2021-02-17 00:00:00', freq='D'),\n",
       " Timestamp('2021-02-18 00:00:00', freq='D'),\n",
       " Timestamp('2021-02-19 00:00:00', freq='D'),\n",
       " Timestamp('2021-02-20 00:00:00', freq='D'),\n",
       " Timestamp('2021-02-21 00:00:00', freq='D'),\n",
       " Timestamp('2021-02-22 00:00:00', freq='D'),\n",
       " Timestamp('2021-02-23 00:00:00', freq='D'),\n",
       " Timestamp('2021-02-24 00:00:00', freq='D'),\n",
       " Timestamp('2021-02-25 00:00:00', freq='D'),\n",
       " Timestamp('2021-02-26 00:00:00', freq='D'),\n",
       " Timestamp('2021-02-27 00:00:00', freq='D'),\n",
       " Timestamp('2021-02-28 00:00:00', freq='D'),\n",
       " Timestamp('2021-03-01 00:00:00', freq='D')]"
      ]
     },
     "execution_count": 59,
     "metadata": {},
     "output_type": "execute_result"
    }
   ],
   "source": [
    "[element for element in pd.date_range('2/13/2021','3/1/2021') if element in pd.date_range(X_train.date.dt.date.min(),X_train.date.dt.date.max())]"
   ]
  },
  {
   "cell_type": "code",
   "execution_count": 58,
   "id": "0ecd8d87",
   "metadata": {},
   "outputs": [
    {
     "data": {
      "text/plain": [
       "DatetimeIndex(['2021-02-13', '2021-02-14', '2021-02-15', '2021-02-16',\n",
       "               '2021-02-17', '2021-02-18', '2021-02-19', '2021-02-20',\n",
       "               '2021-02-21', '2021-02-22', '2021-02-23', '2021-02-24',\n",
       "               '2021-02-25', '2021-02-26', '2021-02-27', '2021-02-28',\n",
       "               '2021-03-01'],\n",
       "              dtype='datetime64[ns]', freq='D')"
      ]
     },
     "execution_count": 58,
     "metadata": {},
     "output_type": "execute_result"
    }
   ],
   "source": [
    "pd.date_range('2/13/2021','3/1/2021')"
   ]
  },
  {
   "cell_type": "code",
   "execution_count": null,
   "id": "55e66253",
   "metadata": {},
   "outputs": [],
   "source": []
  }
 ],
 "metadata": {
  "kernelspec": {
   "display_name": "Python 3 (ipykernel)",
   "language": "python",
   "name": "python3"
  },
  "language_info": {
   "codemirror_mode": {
    "name": "ipython",
    "version": 3
   },
   "file_extension": ".py",
   "mimetype": "text/x-python",
   "name": "python",
   "nbconvert_exporter": "python",
   "pygments_lexer": "ipython3",
   "version": "3.8.12"
  }
 },
 "nbformat": 4,
 "nbformat_minor": 5
}
